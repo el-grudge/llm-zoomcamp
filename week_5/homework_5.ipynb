{
 "cells": [
  {
   "cell_type": "code",
   "execution_count": 1,
   "id": "a2fd3129-79d8-468c-89c9-d5f3c916296b",
   "metadata": {},
   "outputs": [
    {
     "name": "stdout",
     "output_type": "stream",
     "text": [
      "CONTAINER ID   IMAGE                                                 COMMAND                  CREATED          STATUS          PORTS                                                                                  NAMES\n",
      "0d95a8e6d44d   rag-project-magic-platform                            \"/app/run_app.sh mag…\"   45 minutes ago   Up 45 minutes   0.0.0.0:6789->6789/tcp, :::6789->6789/tcp, 7789/tcp                                    rag-project-magic-platform-1\n",
      "a45c44c49278   docker.elastic.co/elasticsearch/elasticsearch:8.5.0   \"/bin/tini -- /usr/l…\"   45 minutes ago   Up 45 minutes   0.0.0.0:9200->9200/tcp, :::9200->9200/tcp, 0.0.0.0:9300->9300/tcp, :::9300->9300/tcp   rag-project-elasticsearch-1\n",
      "5cba6ac0ad56   pgvector/pgvector:0.6.0-pg16                          \"docker-entrypoint.s…\"   45 minutes ago   Up 45 minutes   0.0.0.0:5432->5432/tcp, :::5432->5432/tcp                                              rag-project-magic-database-1\n"
     ]
    }
   ],
   "source": [
    "!docker ps"
   ]
  },
  {
   "cell_type": "code",
   "execution_count": 15,
   "id": "78112485-6c5d-4e11-9bee-cd1239c7fc4c",
   "metadata": {},
   "outputs": [],
   "source": [
    "from elasticsearch import Elasticsearch\n",
    "\n",
    "# Define your connection string (adjust if needed)\n",
    "connection_string = \"http://localhost:9200\"\n",
    "\n",
    "# Initialize Elasticsearch client\n",
    "es_client = Elasticsearch(connection_string)"
   ]
  },
  {
   "cell_type": "code",
   "execution_count": 17,
   "id": "a1e70cfc-7ea2-40f0-841d-9472df4a098d",
   "metadata": {},
   "outputs": [
    {
     "data": {
      "text/plain": [
       "[{'health': 'yellow',\n",
       "  'status': 'open',\n",
       "  'index': 'documents_20240819_5900',\n",
       "  'uuid': 't0LFhF8xSxOdQYOeZXDdkw',\n",
       "  'pri': '1',\n",
       "  'rep': '1',\n",
       "  'docs.count': '86',\n",
       "  'docs.deleted': '0',\n",
       "  'store.size': '85.6kb',\n",
       "  'pri.store.size': '85.6kb'},\n",
       " {'health': 'yellow',\n",
       "  'status': 'open',\n",
       "  'index': 'documents_2_20240819_0002',\n",
       "  'uuid': 'bVavrWR4SgCUwj-DehP0nQ',\n",
       "  'pri': '1',\n",
       "  'rep': '1',\n",
       "  'docs.count': '86',\n",
       "  'docs.deleted': '0',\n",
       "  'store.size': '85.6kb',\n",
       "  'pri.store.size': '85.6kb'},\n",
       " {'health': 'yellow',\n",
       "  'status': 'open',\n",
       "  'index': 'documents_2_20240819_5950',\n",
       "  'uuid': 'MkGkZRzdTVOpOBkjP420pg',\n",
       "  'pri': '1',\n",
       "  'rep': '1',\n",
       "  'docs.count': '0',\n",
       "  'docs.deleted': '0',\n",
       "  'store.size': '225b',\n",
       "  'pri.store.size': '225b'},\n",
       " {'health': 'yellow',\n",
       "  'status': 'open',\n",
       "  'index': 'documents_20240819_0940',\n",
       "  'uuid': 'w6SyzusuQ7-kClZpNmijBw',\n",
       "  'pri': '1',\n",
       "  'rep': '1',\n",
       "  'docs.count': '86',\n",
       "  'docs.deleted': '0',\n",
       "  'store.size': '85.9kb',\n",
       "  'pri.store.size': '85.9kb'}]"
      ]
     },
     "execution_count": 17,
     "metadata": {},
     "output_type": "execute_result"
    }
   ],
   "source": [
    "es_client.cat.indices(format='json')"
   ]
  },
  {
   "cell_type": "markdown",
   "id": "866e2b63-61c7-43ea-aadc-95f6ae2704bf",
   "metadata": {},
   "source": [
    "# Question 5"
   ]
  },
  {
   "cell_type": "code",
   "execution_count": 22,
   "id": "a6a7a5dc-ac47-4bcd-9570-e5836967708e",
   "metadata": {},
   "outputs": [
    {
     "name": "stdout",
     "output_type": "stream",
     "text": [
      "Top matching document ID: NbmcaJEBwhMKiLSCpGG_\n"
     ]
    }
   ],
   "source": [
    "# Define your query\n",
    "query = {\n",
    "    \"query\": {\n",
    "        \"match\": {\n",
    "            \"text\": \"When is the next cohort?\"  # Replace 'text' with the field you are querying against\n",
    "        }\n",
    "    },\n",
    "    \"size\": 1  # Limit to top result\n",
    "}\n",
    "\n",
    "# Perform the search\n",
    "response = es_client.search(index=\"documents_20240819_0940\", body=query)\n",
    "\n",
    "# Extract the ID of the top matching result\n",
    "top_result_id = response['hits']['hits'][0]['_id']\n",
    "\n",
    "print(f\"Top matching document ID: {top_result_id}\")\n"
   ]
  },
  {
   "cell_type": "code",
   "execution_count": 23,
   "id": "cc102ec5-494d-4e5b-8cf7-906129d4f463",
   "metadata": {},
   "outputs": [
    {
     "data": {
      "text/plain": [
       "{'took': 6,\n",
       " 'timed_out': False,\n",
       " '_shards': {'total': 1, 'successful': 1, 'skipped': 0, 'failed': 0},\n",
       " 'hits': {'total': {'value': 63, 'relation': 'eq'},\n",
       "  'max_score': 5.7542934,\n",
       "  'hits': [{'_index': 'documents_20240819_0940',\n",
       "    '_id': 'NbmcaJEBwhMKiLSCpGG_',\n",
       "    '_score': 5.7542934,\n",
       "    '_ignored': ['text.keyword'],\n",
       "    '_source': {'text': \"No, you can only get a certificate if you finish the course with a “live” cohort.\\nWe don't award certificates for the self-paced mode. The reason is you need to peer-review 3 capstone(s) after submitting your own project.\\nYou can only peer-review projects at the time the course is running; after the form is closed and the peer-review list is compiled.\",\n",
       "     'section': 'General course-related questions',\n",
       "     'question': 'Certificate - Can I follow the course in a self-paced mode and get a certificate?',\n",
       "     'course': 'llm-zoomcamp',\n",
       "     'document_id': 'a705279d'}}]}}"
      ]
     },
     "execution_count": 23,
     "metadata": {},
     "output_type": "execute_result"
    }
   ],
   "source": [
    "response"
   ]
  },
  {
   "cell_type": "markdown",
   "id": "20bffa19-6021-4f46-84d7-6f6c315193cd",
   "metadata": {},
   "source": [
    "# Question 6"
   ]
  },
  {
   "cell_type": "code",
   "execution_count": 20,
   "id": "bd1086cc-cc06-47fe-8147-bc1a8537f887",
   "metadata": {},
   "outputs": [
    {
     "name": "stdout",
     "output_type": "stream",
     "text": [
      "Top matching document ID: N7nPaJEBwhMKiLSC8WJe\n"
     ]
    }
   ],
   "source": [
    "# Define your query\n",
    "query = {\n",
    "    \"query\": {\n",
    "        \"match\": {\n",
    "            \"text\": \"When is the next cohort?\"  # Replace 'text' with the field you are querying against\n",
    "        }\n",
    "    },\n",
    "    \"size\": 1  # Limit to top result\n",
    "}\n",
    "\n",
    "# Perform the search\n",
    "response = es_client.search(index=\"documents_3_20240819_0543\", body=query)\n",
    "\n",
    "# Extract the ID of the top matching result\n",
    "top_result_id = response['hits']['hits'][0]['_id']\n",
    "\n",
    "print(f\"Top matching document ID: {top_result_id}\")\n"
   ]
  },
  {
   "cell_type": "code",
   "execution_count": 21,
   "id": "3145afa4-2a66-4d20-90ba-4fc580c16ec8",
   "metadata": {},
   "outputs": [
    {
     "data": {
      "text/plain": [
       "{'took': 4,\n",
       " 'timed_out': False,\n",
       " '_shards': {'total': 1, 'successful': 1, 'skipped': 0, 'failed': 0},\n",
       " 'hits': {'total': {'value': 63, 'relation': 'eq'},\n",
       "  'max_score': 5.753417,\n",
       "  'hits': [{'_index': 'documents_3_20240819_0543',\n",
       "    '_id': 'N7nPaJEBwhMKiLSC8WJe',\n",
       "    '_score': 5.753417,\n",
       "    '_ignored': ['text.keyword'],\n",
       "    '_source': {'text': \"No, you can only get a certificate if you finish the course with a “live” cohort.\\nWe don't award certificates for the self-paced mode. The reason is you need to peer-review 3 capstone(s) after submitting your own project.\\nYou can only peer-review projects at the time the course is running; after the form is closed and the peer-review list is compiled.\",\n",
       "     'section': 'General course-related questions',\n",
       "     'question': 'Certificate - Can I follow the course in a self-paced mode and get a certificate?',\n",
       "     'course': 'llm-zoomcamp',\n",
       "     'document_id': 'a705279d'}}]}}"
      ]
     },
     "execution_count": 21,
     "metadata": {},
     "output_type": "execute_result"
    }
   ],
   "source": [
    "response"
   ]
  }
 ],
 "metadata": {
  "kernelspec": {
   "display_name": "Python 3 (ipykernel)",
   "language": "python",
   "name": "python3"
  },
  "language_info": {
   "codemirror_mode": {
    "name": "ipython",
    "version": 3
   },
   "file_extension": ".py",
   "mimetype": "text/x-python",
   "name": "python",
   "nbconvert_exporter": "python",
   "pygments_lexer": "ipython3",
   "version": "3.12.4"
  }
 },
 "nbformat": 4,
 "nbformat_minor": 5
}
