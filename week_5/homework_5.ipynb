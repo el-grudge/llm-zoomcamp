{
 "cells": [
  {
   "cell_type": "markdown",
   "id": "55f784b6-fd4f-45f8-a9ab-26c0f361abd3",
   "metadata": {},
   "source": [
    "# question 5"
   ]
  },
  {
   "cell_type": "code",
   "execution_count": 7,
   "id": "0506766d-0830-4d4c-a6fc-afe996345bc2",
   "metadata": {},
   "outputs": [
    {
     "name": "stdout",
     "output_type": "stream",
     "text": [
      "Top matching document ID: bf024675\n"
     ]
    }
   ],
   "source": [
    "from elasticsearch import Elasticsearch\n",
    "\n",
    "# Connect to the Elasticsearch instance\n",
    "es = Elasticsearch(['http://localhost:9200'])\n",
    "\n",
    "# Define the search query\n",
    "the_query = \"When is the next cohort?\"\n",
    "\n",
    "index_name = 'documents_20240819_0941'\n",
    "# Perform the search\n",
    "documents = es.search(\n",
    "    index=index_name,\n",
    "    body={\n",
    "        'query': {\n",
    "            'match': {\n",
    "                'question': the_query\n",
    "            }\n",
    "        }\n",
    "    }\n",
    ")\n",
    "\n",
    "# Extract the ID of the top matching result\n",
    "top_result_id = documents['hits']['hits'][0]['_source']['document_id']\n",
    "print(f\"Top matching document ID: {top_result_id}\")"
   ]
  },
  {
   "cell_type": "code",
   "execution_count": 9,
   "id": "18f2f374-5b51-4fba-ad0f-8ea9080cd4c7",
   "metadata": {},
   "outputs": [
    {
     "data": {
      "text/plain": [
       "{'_index': 'documents_20240819_0941',\n",
       " '_id': '4VYKaZEBLe8dAQtMgUQ2',\n",
       " '_score': 8.443945,\n",
       " '_source': {'text': 'Summer 2025 (via Alexey).',\n",
       "  'section': 'General course-related questions',\n",
       "  'question': 'When will the course be offered next?',\n",
       "  'course': 'llm-zoomcamp',\n",
       "  'document_id': 'bf024675'}}"
      ]
     },
     "execution_count": 9,
     "metadata": {},
     "output_type": "execute_result"
    }
   ],
   "source": [
    "documents['hits']['hits'][0]"
   ]
  },
  {
   "cell_type": "markdown",
   "id": "794becbf-fa9e-4ebd-815a-bc6be73bd53a",
   "metadata": {},
   "source": [
    "# question 6"
   ]
  },
  {
   "cell_type": "code",
   "execution_count": 10,
   "id": "021d01bf-68b1-445a-b128-1d129d24dc5f",
   "metadata": {},
   "outputs": [
    {
     "name": "stdout",
     "output_type": "stream",
     "text": [
      "Top matching document ID: b6fa77f3\n"
     ]
    }
   ],
   "source": [
    "from elasticsearch import Elasticsearch\n",
    "\n",
    "# Connect to the Elasticsearch instance\n",
    "es = Elasticsearch(['http://localhost:9200'])\n",
    "\n",
    "# Define the search query\n",
    "the_query = \"When is the next cohort?\"\n",
    "\n",
    "index_name = 'documents_2_20240819_1853'\n",
    "# Perform the search\n",
    "documents = es.search(\n",
    "    index=index_name,\n",
    "    body={\n",
    "        'query': {\n",
    "            'match': {\n",
    "                'question': the_query\n",
    "            }\n",
    "        }\n",
    "    }\n",
    ")\n",
    "\n",
    "# Extract the ID of the top matching result\n",
    "top_result_id = documents['hits']['hits'][0]['_source']['document_id']\n",
    "print(f\"Top matching document ID: {top_result_id}\")"
   ]
  },
  {
   "cell_type": "code",
   "execution_count": 11,
   "id": "45523729-929d-492c-97f8-a397980aec21",
   "metadata": {},
   "outputs": [
    {
     "data": {
      "text/plain": [
       "{'_index': 'documents_2_20240819_1853',\n",
       " '_id': 'N1YSaZEBLe8dAQtM70V3',\n",
       " '_score': 17.212463,\n",
       " '_source': {'text': 'Summer 2026.',\n",
       "  'section': 'General course-related questions',\n",
       "  'question': 'When is the next cohort?',\n",
       "  'course': 'llm-zoomcamp',\n",
       "  'document_id': 'b6fa77f3'}}"
      ]
     },
     "execution_count": 11,
     "metadata": {},
     "output_type": "execute_result"
    }
   ],
   "source": [
    "documents['hits']['hits'][0]"
   ]
  }
 ],
 "metadata": {
  "kernelspec": {
   "display_name": "Python 3 (ipykernel)",
   "language": "python",
   "name": "python3"
  },
  "language_info": {
   "codemirror_mode": {
    "name": "ipython",
    "version": 3
   },
   "file_extension": ".py",
   "mimetype": "text/x-python",
   "name": "python",
   "nbconvert_exporter": "python",
   "pygments_lexer": "ipython3",
   "version": "3.12.4"
  }
 },
 "nbformat": 4,
 "nbformat_minor": 5
}
