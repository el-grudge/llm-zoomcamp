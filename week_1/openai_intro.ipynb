{
 "cells": [
  {
   "cell_type": "code",
   "execution_count": 1,
   "id": "78b79bdd-1a14-40a9-85ba-fdb37c2f452f",
   "metadata": {},
   "outputs": [],
   "source": [
    "import openai"
   ]
  },
  {
   "cell_type": "code",
   "execution_count": 2,
   "id": "d6fd1fcb-e059-440a-b6cc-caa30862494f",
   "metadata": {},
   "outputs": [],
   "source": [
    "from openai import OpenAI"
   ]
  },
  {
   "cell_type": "code",
   "execution_count": 3,
   "id": "6a558841-9a20-4b53-acdf-74d19ae6136f",
   "metadata": {},
   "outputs": [],
   "source": [
    "client = OpenAI()"
   ]
  },
  {
   "cell_type": "code",
   "execution_count": 7,
   "id": "e74406ba-2eb4-4e68-af15-f9e50d051676",
   "metadata": {},
   "outputs": [],
   "source": [
    "response = client.chat.completions.create(\n",
    "    model='gpt-4o',\n",
    "    messages=[{\"role\": \"user\", \"content\": \"which team has the highest chance of winning Euro 2024?\"}]\n",
    ")"
   ]
  },
  {
   "cell_type": "code",
   "execution_count": 9,
   "id": "afbafeaa-0ef4-49c9-9e4b-663032a42d82",
   "metadata": {},
   "outputs": [
    {
     "data": {
      "text/plain": [
       "'Predicting the winner of a major football tournament like Euro 2024 is inherently speculative and depends on numerous factors including team form, injuries, tactical strategies, and sometimes even luck. Nevertheless, there are consistently strong teams in European football that are often favorites for such tournaments. As of my knowledge cutoff in October 2023, the teams traditionally considered to have high chances include:\\n\\n1. **France**: They have a deep pool of talent, including world-class players like Kylian Mbappé, and a solid track record in recent years.\\n2. **Germany**: As the host nation, they will have the advantage of home support, and they have a history of performing well in major tournaments.\\n3. **Spain**: Known for their technical and possession-based football, Spain has consistently been strong contenders.\\n4. **Italy**: The reigning Euro 2020 champions, Italy has a balanced team with a mix of experienced players and young talents.\\n5. **England**: Having reached the Euro 2020 final and performed well in the subsequent years, England has a strong and youthful squad.\\n\\nOutside of these, countries like Belgium, Portugal, Netherlands, and Croatia also have strong teams capable of making deep runs in the tournament.\\n\\nFor the latest and most accurate predictions, it’s best to keep an eye on team performances, injuries, and other developments as the tournament approaches.'"
      ]
     },
     "execution_count": 9,
     "metadata": {},
     "output_type": "execute_result"
    }
   ],
   "source": [
    "response.choices[0].message.content"
   ]
  }
 ],
 "metadata": {
  "kernelspec": {
   "display_name": "Python 3 (ipykernel)",
   "language": "python",
   "name": "python3"
  },
  "language_info": {
   "codemirror_mode": {
    "name": "ipython",
    "version": 3
   },
   "file_extension": ".py",
   "mimetype": "text/x-python",
   "name": "python",
   "nbconvert_exporter": "python",
   "pygments_lexer": "ipython3",
   "version": "3.12.4"
  }
 },
 "nbformat": 4,
 "nbformat_minor": 5
}
