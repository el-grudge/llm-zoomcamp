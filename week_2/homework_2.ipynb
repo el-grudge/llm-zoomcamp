{
 "cells": [
  {
   "cell_type": "markdown",
   "id": "7ee25a91-daca-4187-b4f4-92cc1239f4cf",
   "metadata": {},
   "source": [
    "# Save & load LLMs locally\n",
    "\n",
    "Use the Ollama platform to run LLMs locally. Start Ollama with this command:\n",
    "\n",
    "```bash\n",
    "docker run -it \\\n",
    "    --rm \\\n",
    "    -v ollama:/root/.ollama \\\n",
    "    -p 11434:11434 \\\n",
    "    --name ollama \\\n",
    "    ollama/ollama\n",
    "```\n",
    "\n",
    "Use this command to enter the bash of the docker image\n",
    "\n",
    "```bash\n",
    "docker exec -it ollama bash\n",
    "```\n",
    "\n",
    "To get the Ollama version, run this command\n",
    "\n",
    "```bash\n",
    "ollama -v\n",
    "```\n",
    "\n",
    "For Q.1, the answer is:\n",
    "\n",
    "```bash\n",
    "$ ollama -v\n",
    "ollama version is 0.1.48\n",
    "```\n",
    "\n",
    "To pull a model from model repositoy use the following command:\n",
    "\n",
    "```bash\n",
    "ollama pull [model-name]\n",
    "```\n",
    "\n",
    "For Q.2, the answer is:\n",
    "\n",
    "```bash\n",
    "$ ollama pull gemma:2b\n",
    "pulling manifest \n",
    "pulling c1864a5eb193... 100% ▕██████████████████████████████████████████████████████████████████████████████████████████████████████████████████████████████████████████████████████▏ 1.7 GB                         \n",
    "pulling 097a36493f71... 100% ▕██████████████████████████████████████████████████████████████████████████████████████████████████████████████████████████████████████████████████████▏ 8.4 KB                         \n",
    "pulling 109037bec39c... 100% ▕██████████████████████████████████████████████████████████████████████████████████████████████████████████████████████████████████████████████████████▏  136 B                         \n",
    "pulling 22a838ceb7fb... 100% ▕██████████████████████████████████████████████████████████████████████████████████████████████████████████████████████████████████████████████████████▏   84 B                         \n",
    "pulling 887433b89a90... 100% ▕██████████████████████████████████████████████████████████████████████████████████████████████████████████████████████████████████████████████████████▏  483 B                         \n",
    "verifying sha256 digest \n",
    "writing manifest \n",
    "removing any unused layers \n",
    "success \n",
    "```\n",
    "\n",
    "```bash\n",
    "$ cat /root/.ollama/models/manifests/registry.ollama.ai/library/gemma/2b \n",
    "{\"schemaVersion\":2,\"mediaType\":\"application/vnd.docker.distribution.manifest.v2+json\",\"config\":{\"mediaType\":\"application/vnd.docker.container.image.v1+json\",\"digest\":\"sha256:887433b89a901c156f7e6944442f3c9e57f3c55d6ed52042cbb7303aea994290\",\"size\":483},\"layers\":[{\"mediaType\":\"application/vnd.ollama.image.model\",\"digest\":\"sha256:c1864a5eb19305c40519da12cc543519e48a0697ecd30e15d5ac228644957d12\",\"size\":1678447520},{\"mediaType\":\"application/vnd.ollama.image.license\",\"digest\":\"sha256:097a36493f718248845233af1d3fefe7a303f864fae13bc31a3a9704229378ca\",\"size\":8433},{\"mediaType\":\"application/vnd.ollama.image.template\",\"digest\":\"sha256:109037bec39c0becc8221222ae23557559bc594290945a2c4221ab4f303b8871\",\"size\":136},{\"mediaType\":\"application/vnd.ollama.image.params\",\"digest\":\"sha256:22a838ceb7fb22755a3b0ae9b4eadde629d19be1f651f73efb8c6b4e2cd0eea0\",\"size\":84}]}\n",
    "```\n",
    "\n",
    "To run a model, use this command:\n",
    "\n",
    "```bash\n",
    "ollama run [model-name]\n",
    "```\n",
    "\n",
    "For Q.3, the answer is:\n",
    "\n",
    "```bash\n",
    "$ ollama run gemma:2b\n",
    ">>> 10*10\n",
    "Sure. Here is the answer to the question:\n",
    "\n",
    "10 * 10 = 100\n",
    "\n",
    "\n",
    "\n",
    ">>> Send a message (/? for help)\n",
    "```\n",
    "\n",
    "To load the weights locally, map the `/root/.ollama` directory to a local directory. For example, in this instance we're running the Ollama container and mapping the `/root/.ollama` directory to `ollama_files` locally. Now, when we pull a model, its weights will be coppied to our local directory:\n",
    "\n",
    "```bash\n",
    "mkdir ollama_files\n",
    "\n",
    "docker run -it \\\n",
    "    --rm \\\n",
    "    -v ./ollama_files:/root/.ollama \\\n",
    "    -p 11434:11434 \\\n",
    "    --name ollama \\\n",
    "    ollama/ollama\n",
    "```\n",
    "\n",
    "```bash\n",
    "$ docker exec -it ollama ollama pull gemma:2b \n",
    "pulling manifest \n",
    "pulling c1864a5eb193... 100% ▕██████████████████████████████████████████████████████████████████████████████████████████████████████████████████████████████████████████████████████▏ 1.7 GB                         \n",
    "pulling 097a36493f71... 100% ▕██████████████████████████████████████████████████████████████████████████████████████████████████████████████████████████████████████████████████████▏ 8.4 KB                         \n",
    "pulling 109037bec39c... 100% ▕██████████████████████████████████████████████████████████████████████████████████████████████████████████████████████████████████████████████████████▏  136 B                         \n",
    "pulling 22a838ceb7fb... 100% ▕██████████████████████████████████████████████████████████████████████████████████████████████████████████████████████████████████████████████████████▏   84 B                         \n",
    "pulling 887433b89a90... 100% ▕██████████████████████████████████████████████████████████████████████████████████████████████████████████████████████████████████████████████████████▏  483 B                         \n",
    "verifying sha256 digest \n",
    "writing manifest \n",
    "removing any unused layers \n",
    "success \n",
    "```\n",
    "\n",
    "For Q.4, the size of `ollama_files/models/` is 1.6G\n",
    "\n",
    "```bash\n",
    "$ du -h ollama_files/models/\n",
    "1.6G    ollama_files/models/blobs\n",
    "8.0K    ollama_files/models/manifests/registry.ollama.ai/library/gemma\n",
    "12K     ollama_files/models/manifests/registry.ollama.ai/library\n",
    "16K     ollama_files/models/manifests/registry.ollama.ai\n",
    "20K     ollama_files/models/manifests\n",
    "1.6G    ollama_files/models/\n",
    "```\n",
    "\n",
    "Now that we have the model weights, we can create a new Docker container with these weights and we can use this container for our app. \n",
    "\n",
    "For Q.5, we can copy the local weights to a new docker container using this Dockerfile:\n",
    "\n",
    "```yaml\n",
    "FROM ollama/ollama\n",
    "\n",
    "# Copy the weights from your local machine to the Docker image\n",
    "COPY ollama_files/ /root/.ollama\n",
    "```\n",
    "\n",
    "Build the container with this command:\n",
    "\n",
    "```bash\n",
    "docker build -t my-ollama-image .\n",
    "```\n",
    "\n",
    "And run it with this command:\n",
    "\n",
    "```bash\n",
    "docker run -it --rm \\\n",
    "    -p 11434:11434 \\\n",
    "    --name ollama-container \\\n",
    "    my-ollama-image\n",
    "```\n",
    "\n",
    "*PS: Make sure to expose port 11434 so you can interact with Ollama.*\n",
    "\n",
    "For Q.6, the number of completion tokens for the response can be derived using this code:"
   ]
  },
  {
   "cell_type": "code",
   "execution_count": 1,
   "id": "42303586-2c68-4477-935b-c8d20a621d61",
   "metadata": {},
   "outputs": [],
   "source": [
    "from openai import OpenAI\n",
    "\n",
    "client = OpenAI(\n",
    "    base_url='http://localhost:11434/v1/',\n",
    "    api_key='ollama',\n",
    ")"
   ]
  },
  {
   "cell_type": "code",
   "execution_count": 2,
   "id": "00411a71-4356-4754-a84e-43c7a39b11bb",
   "metadata": {},
   "outputs": [],
   "source": [
    "prompt = \"What's the formula for energy?\""
   ]
  },
  {
   "cell_type": "code",
   "execution_count": 3,
   "id": "85360fa0-f53f-40dc-b38c-4f883d70d3ca",
   "metadata": {},
   "outputs": [],
   "source": [
    "response = client.chat.completions.create(\n",
    "    model='gemma:2b',\n",
    "    messages=[{\"role\": \"user\", \"content\": prompt}],\n",
    "    temperature=0.0\n",
    ")"
   ]
  },
  {
   "cell_type": "code",
   "execution_count": 4,
   "id": "732b32c4-495d-43e2-af41-e26f5a85a5d8",
   "metadata": {},
   "outputs": [
    {
     "data": {
      "text/plain": [
       "\"Sure, here's the formula for energy:\\n\\n**E = K + U**\\n\\nWhere:\\n\\n* **E** is the energy in joules (J)\\n* **K** is the kinetic energy in joules (J)\\n* **U** is the potential energy in joules (J)\\n\\n**Kinetic energy (K)** is the energy an object possesses when it moves or is in motion. It is calculated as half the product of an object's mass (m) and its velocity (v) squared:\\n\\n**K = 1/2mv^2**\\n\\n**Potential energy (U)** is the energy an object possesses due to its position or configuration. It is calculated as the product of an object's mass, gravitational constant (g), and height or position above a reference point.\\n\\n**U = mgh**\\n\\nWhere:\\n\\n* **m** is the mass in kilograms (kg)\\n* **g** is the gravitational constant (9.8 m/s^2)\\n* **h** is the height or position in meters (m)\\n\\nThe formula shows that energy can be expressed as the sum of kinetic and potential energy. The kinetic energy is a measure of the object's ability to do work, while the potential energy is a measure of the object's ability to do work against a force.\""
      ]
     },
     "execution_count": 4,
     "metadata": {},
     "output_type": "execute_result"
    }
   ],
   "source": [
    "response.choices[0].message.content"
   ]
  },
  {
   "cell_type": "code",
   "execution_count": 18,
   "id": "1856f025-8386-4312-b675-8f5ed0d60671",
   "metadata": {},
   "outputs": [
    {
     "data": {
      "text/plain": [
       "281"
      ]
     },
     "execution_count": 18,
     "metadata": {},
     "output_type": "execute_result"
    }
   ],
   "source": [
    "response.usage.completion_tokens"
   ]
  }
 ],
 "metadata": {
  "kernelspec": {
   "display_name": "Python 3 (ipykernel)",
   "language": "python",
   "name": "python3"
  },
  "language_info": {
   "codemirror_mode": {
    "name": "ipython",
    "version": 3
   },
   "file_extension": ".py",
   "mimetype": "text/x-python",
   "name": "python",
   "nbconvert_exporter": "python",
   "pygments_lexer": "ipython3",
   "version": "3.12.4"
  }
 },
 "nbformat": 4,
 "nbformat_minor": 5
}
